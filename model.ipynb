{
 "cells": [
  {
   "cell_type": "code",
   "execution_count": 1,
   "id": "835eebe4-f0d9-44a6-987b-8313ff334ad5",
   "metadata": {},
   "outputs": [],
   "source": [
    "import tensorflow as tf\n",
    "import numpy as np\n",
    "import cv2"
   ]
  },
  {
   "cell_type": "code",
   "execution_count": 2,
   "id": "890a07d9-87eb-4e21-9f29-1d9207d74441",
   "metadata": {},
   "outputs": [
    {
     "name": "stdout",
     "output_type": "stream",
     "text": [
      "WARNING:tensorflow:No training configuration found in the save file, so the model was *not* compiled. Compile it manually.\n"
     ]
    }
   ],
   "source": [
    "path_m =  'resnet18-KITTI-semantic-seg.h5'\n",
    "# model = tf.keras.models.load_model(f'/models/{path}')\n",
    "model = tf.keras.models.load_model(f'models/{path_m}')"
   ]
  },
  {
   "cell_type": "code",
   "execution_count": 4,
   "id": "84df1a3f-ba3d-4f94-ac8a-ff4d63cc3f34",
   "metadata": {},
   "outputs": [],
   "source": [
    "path ='_weights_epoch10_val_loss_-1.2967_train_loss_-1.3041.hdf5'\n",
    "path = 'new.hdf5'\n",
    "path = '_weights_epoch20_val_loss_-1.9522_train_loss_-1.9632.hdf5'\n",
    "# '_weights_epoch20_val_loss_-1.2976_train_loss_-1_new.3050.hdf5'\n",
    "# model.load_weights('_weights_epoch20_val_loss_-1.9522_train_loss_-1.9632.hdf5')\n",
    "# model.load_weights('_weights_epoch20_val_loss_-1.9483_train_loss_-1.9619.hdf5')\n",
    "model.load_weights(f'weights/{path}')\n"
   ]
  },
  {
   "cell_type": "code",
   "execution_count": 5,
   "id": "3c8eb1f8-f904-4ec8-9ceb-81f7ea1e0b98",
   "metadata": {},
   "outputs": [],
   "source": [
    "from utils import pred_output "
   ]
  },
  {
   "cell_type": "code",
   "execution_count": 6,
   "id": "56c3c707-91dc-4d85-a269-950be352642b",
   "metadata": {},
   "outputs": [],
   "source": [
    "img_path = f'testing/test6.png'"
   ]
  },
  {
   "cell_type": "code",
   "execution_count": 7,
   "id": "5a11c8df-0414-44c2-9cfc-a6dbc4e0bc64",
   "metadata": {},
   "outputs": [],
   "source": [
    "inputImg = cv2.imread(img_path)"
   ]
  },
  {
   "cell_type": "code",
   "execution_count": 8,
   "id": "219a6b61-853b-406d-bb51-97f374cd7266",
   "metadata": {},
   "outputs": [],
   "source": [
    "outputDisplay,overlayedImage = pred_output(model,inputImg)"
   ]
  },
  {
   "cell_type": "code",
   "execution_count": 9,
   "id": "99c1b849-9400-45ca-9c39-b55a3c80fab3",
   "metadata": {},
   "outputs": [],
   "source": [
    "try:\n",
    "    cv2.imshow('P ',outputDisplay)\n",
    "    cv2.imshow('O + P ',overlayedImage)\n",
    "    cv2.imshow('O ',inputImg)\n",
    "    cv2.waitKey(0)\n",
    "finally:\n",
    "    cv2.destroyAllWindows()"
   ]
  },
  {
   "cell_type": "code",
   "execution_count": null,
   "id": "2c241f87-d0a0-4afe-a024-899d02290979",
   "metadata": {},
   "outputs": [],
   "source": []
  },
  {
   "cell_type": "code",
   "execution_count": 25,
   "id": "daf587e5-fdfc-4e1d-aeb2-216ef2e250de",
   "metadata": {},
   "outputs": [],
   "source": [
    "path = '/testing/london.mp4' "
   ]
  },
  {
   "cell_type": "code",
   "execution_count": 36,
   "id": "d5a5cfb3-21ef-4d88-8b44-90ad05670b4d",
   "metadata": {},
   "outputs": [],
   "source": [
    "vdo=cv2.VideoCapture(path)\n",
    "try:\n",
    "    while vdo.isOpened():\n",
    "        ret,frame=vdo.read()\n",
    "        \n",
    "        _,output =  pred_output(model,frame)\n",
    "        \n",
    "        cv2.imshow('output ',output)\n",
    "        cv2.imshow('frame ',frame)\n",
    "        \n",
    "        if cv2.waitKey(1) & 0xFF==ord('q'):\n",
    "            break\n",
    "finally:\n",
    "    vdo.release()\n",
    "    cv2.destroyAllWindows()"
   ]
  },
  {
   "cell_type": "code",
   "execution_count": null,
   "id": "ad7852b7-48c1-449a-997b-847bd72d659e",
   "metadata": {},
   "outputs": [],
   "source": [
    "cap=cv2.VideoCapture(0)\n",
    "fourcc = cv2.VideoWriter_fourcc(*'XVID')\n",
    "out=cv2.VideoWriter('vdo.avi',fourcc,20.0,(640,480))"
   ]
  },
  {
   "cell_type": "code",
   "execution_count": null,
   "id": "d8167642-e81c-4eb1-ae60-b9a96c6d7de4",
   "metadata": {},
   "outputs": [],
   "source": [
    "while True:\n",
    "    ret,frame=cap.read()\n",
    "#     gray=cv2.cvtColor(frame,cv2.COLOR_BGR2GRAY)\n",
    "    out.write(frame)\n",
    "    cv2.imshow('Frame ',frame)\n",
    "#     cv2.imshow('Gray ',gray)\n",
    "    if cv2.waitKey(1) & 0xFF==ord('q'):\n",
    "        break\n",
    "cap.release()\n",
    "out.release()\n",
    "cv2.destroyAllWindows()"
   ]
  },
  {
   "cell_type": "markdown",
   "id": "97fecd90-2a3d-4f26-83d9-7b526e7af3dd",
   "metadata": {},
   "source": [
    "## FCN"
   ]
  },
  {
   "cell_type": "code",
   "execution_count": 6,
   "id": "f43a6277-8faf-42b1-a618-60d0a685aab4",
   "metadata": {},
   "outputs": [],
   "source": [
    "import tensorflow as tf\n",
    "from tensorflow.keras.applications import VGG16"
   ]
  },
  {
   "cell_type": "code",
   "execution_count": 9,
   "id": "4a06dc7e-8ab2-4c7c-8a65-4e389ca88e12",
   "metadata": {},
   "outputs": [],
   "source": [
    "model = VGG16(weights=None)"
   ]
  },
  {
   "cell_type": "code",
   "execution_count": 10,
   "id": "45fda548-9a36-49e8-8812-fc31fb50956e",
   "metadata": {},
   "outputs": [
    {
     "name": "stdout",
     "output_type": "stream",
     "text": [
      "Model: \"vgg16\"\n",
      "_________________________________________________________________\n",
      "Layer (type)                 Output Shape              Param #   \n",
      "=================================================================\n",
      "input_2 (InputLayer)         [(None, 224, 224, 3)]     0         \n",
      "_________________________________________________________________\n",
      "block1_conv1 (Conv2D)        (None, 224, 224, 64)      1792      \n",
      "_________________________________________________________________\n",
      "block1_conv2 (Conv2D)        (None, 224, 224, 64)      36928     \n",
      "_________________________________________________________________\n",
      "block1_pool (MaxPooling2D)   (None, 112, 112, 64)      0         \n",
      "_________________________________________________________________\n",
      "block2_conv1 (Conv2D)        (None, 112, 112, 128)     73856     \n",
      "_________________________________________________________________\n",
      "block2_conv2 (Conv2D)        (None, 112, 112, 128)     147584    \n",
      "_________________________________________________________________\n",
      "block2_pool (MaxPooling2D)   (None, 56, 56, 128)       0         \n",
      "_________________________________________________________________\n",
      "block3_conv1 (Conv2D)        (None, 56, 56, 256)       295168    \n",
      "_________________________________________________________________\n",
      "block3_conv2 (Conv2D)        (None, 56, 56, 256)       590080    \n",
      "_________________________________________________________________\n",
      "block3_conv3 (Conv2D)        (None, 56, 56, 256)       590080    \n",
      "_________________________________________________________________\n",
      "block3_pool (MaxPooling2D)   (None, 28, 28, 256)       0         \n",
      "_________________________________________________________________\n",
      "block4_conv1 (Conv2D)        (None, 28, 28, 512)       1180160   \n",
      "_________________________________________________________________\n",
      "block4_conv2 (Conv2D)        (None, 28, 28, 512)       2359808   \n",
      "_________________________________________________________________\n",
      "block4_conv3 (Conv2D)        (None, 28, 28, 512)       2359808   \n",
      "_________________________________________________________________\n",
      "block4_pool (MaxPooling2D)   (None, 14, 14, 512)       0         \n",
      "_________________________________________________________________\n",
      "block5_conv1 (Conv2D)        (None, 14, 14, 512)       2359808   \n",
      "_________________________________________________________________\n",
      "block5_conv2 (Conv2D)        (None, 14, 14, 512)       2359808   \n",
      "_________________________________________________________________\n",
      "block5_conv3 (Conv2D)        (None, 14, 14, 512)       2359808   \n",
      "_________________________________________________________________\n",
      "block5_pool (MaxPooling2D)   (None, 7, 7, 512)         0         \n",
      "_________________________________________________________________\n",
      "flatten (Flatten)            (None, 25088)             0         \n",
      "_________________________________________________________________\n",
      "fc1 (Dense)                  (None, 4096)              102764544 \n",
      "_________________________________________________________________\n",
      "fc2 (Dense)                  (None, 4096)              16781312  \n",
      "_________________________________________________________________\n",
      "predictions (Dense)          (None, 1000)              4097000   \n",
      "=================================================================\n",
      "Total params: 138,357,544\n",
      "Trainable params: 138,357,544\n",
      "Non-trainable params: 0\n",
      "_________________________________________________________________\n"
     ]
    }
   ],
   "source": [
    "model.summary()"
   ]
  }
 ],
 "metadata": {
  "kernelspec": {
   "display_name": "Python 3",
   "language": "python",
   "name": "python3"
  },
  "language_info": {
   "codemirror_mode": {
    "name": "ipython",
    "version": 3
   },
   "file_extension": ".py",
   "mimetype": "text/x-python",
   "name": "python",
   "nbconvert_exporter": "python",
   "pygments_lexer": "ipython3",
   "version": "3.8.8"
  }
 },
 "nbformat": 4,
 "nbformat_minor": 5
}
